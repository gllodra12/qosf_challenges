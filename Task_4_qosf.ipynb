{
 "cells": [
  {
   "cell_type": "code",
   "execution_count": 282,
   "metadata": {},
   "outputs": [],
   "source": [
    "%matplotlib inline\n",
    "\n",
    "import math\n",
    "\n",
    "import cirq\n",
    "import matplotlib.pyplot as plt\n",
    "import networkx as nx\n",
    "import numpy as np\n",
    "from scipy.optimize import minimize"
   ]
  },
  {
   "cell_type": "markdown",
   "metadata": {},
   "source": [
    "# Introduction\n"
   ]
  },
  {
   "cell_type": "code",
   "execution_count": null,
   "metadata": {},
   "outputs": [],
   "source": []
  },
  {
   "cell_type": "code",
   "execution_count": null,
   "metadata": {},
   "outputs": [],
   "source": []
  },
  {
   "cell_type": "markdown",
   "metadata": {},
   "source": [
    "# Defining our first graph\n",
    "\n",
    "To make sure the following code works properly, we will choose a linear graph of 5 nodes as [lucaman99](https://lucaman99.github.io/new_blog/2020/mar16.html) did in his tutorial and set all the weights to 1 $(w_{ij}=1)$.  \n",
    "\n",
    "Later on, we will try different graphs with different weights and see if we also get the expected result."
   ]
  },
  {
   "cell_type": "code",
   "execution_count": 283,
   "metadata": {},
   "outputs": [
    {
     "data": {
      "image/png": "[encoded data removed]",
      "text/plain": [
       "<Figure size 432x288 with 1 Axes>"
      ]
     },
     "metadata": {},
     "output_type": "display_data"
    }
   ],
   "source": [
    "np.random.seed(seed=3)\n",
    "\n",
    "# linear 5 node graph\n",
    "set_edges = [\n",
    "     (0, 1, 1),\n",
    "     (1, 2, 1), \n",
    "     (2, 3, 1), \n",
    "     (3, 4, 1), \n",
    "    ]\n",
    "\n",
    "def draw_graph(edges):\n",
    "    G = nx.Graph()\n",
    "    G.add_weighted_edges_from(edges)\n",
    "    \n",
    "    nx.draw(G, with_labels=True)\n",
    "    plt.show()\n",
    "\n",
    "draw_graph(set_edges)"
   ]
  },
  {
   "cell_type": "markdown",
   "metadata": {},
   "source": [
    "# Create QAOA circuit\n",
    "\n",
    "As many quantum algorithm we will our initial state will be the superposition of all the qubits."
   ]
  },
  {
   "cell_type": "code",
   "execution_count": 284,
   "metadata": {},
   "outputs": [],
   "source": [
    "def initialization(qubits):\n",
    "    for q in qubits:\n",
    "        yield cirq.H.on(q)"
   ]
  },
  {
   "cell_type": "markdown",
   "metadata": {},
   "source": [
    "Now, we can define our cost and mixer Hamiltonian: $H_C, H_X$."
   ]
  },
  {
   "cell_type": "code",
   "execution_count": 285,
   "metadata": {},
   "outputs": [],
   "source": [
    "#### No se perque ho divideix per math.pi CANVIAR\n",
    "def cost_unitary(qubits, gamma): \n",
    "    for start_node, end_node, weight in set_edges:                \n",
    "        yield cirq.ZZPowGate(exponent=-weight*gamma/math.pi).on(qubits[start_node], qubits[end_node])\n",
    "        \n",
    "\n",
    "def mixer_unitary(qubits, alpha):\n",
    "    for i in range(0, len(qubits)):\n",
    "        yield cirq.XPowGate(exponent=-alpha/math.pi).on(qubits[i])"
   ]
  },
  {
   "cell_type": "markdown",
   "metadata": {},
   "source": [
    "Combining the initial state, cost and mixer functions we can create a QAOA circuit."
   ]
  },
  {
   "cell_type": "code",
   "execution_count": 286,
   "metadata": {},
   "outputs": [],
   "source": [
    "def qaoa_circuit(qubits, alpha: list, gamma: list , depth: int):\n",
    "    circuit = cirq.Circuit()\n",
    "    circuit.append(initialization(qubits))\n",
    "    \n",
    "    for depth_level in range(0, depth): # CANVIAR gamma i alpha, per alpha i beta\n",
    "        circuit.append(cost_unitary(qubits, gamma[depth_level]))\n",
    "        circuit.append(mixer_unitary(qubits, alpha[depth_level]))\n",
    "    circuit.append(cirq.measure(*qubits, key='x'))\n",
    "    \n",
    "    return circuit"
   ]
  },
  {
   "cell_type": "code",
   "execution_count": 287,
   "metadata": {},
   "outputs": [],
   "source": [
    "def get_samples(circuit, repetitions: int):\n",
    "    simulator = cirq.Simulator()\n",
    "    results = simulator.run(circuit, repetitions=repetitions)\n",
    "    results = str(results)[2:].split(\", \")\n",
    "    num_qubits = len(results)\n",
    "    samples = list()\n",
    "    \n",
    "    # sorting results\n",
    "    for rep in range(0, repetitions):\n",
    "        bitstring = list()\n",
    "        for qubit in range(0, num_qubits): \n",
    "            bitstring.append(int(results[qubit][rep]))\n",
    "        samples.append(bitstring)\n",
    "        \n",
    "    return samples"
   ]
  },
  {
   "cell_type": "code",
   "execution_count": 288,
   "metadata": {},
   "outputs": [],
   "source": [
    "def cost_function(params, qubits, depth, repetitions, set_edges):\n",
    "    gamma = params[:len(params)//2]\n",
    "    alpha = params[len(params)//2:]\n",
    "    \n",
    "    circuit = qaoa_circuit(qubits, gamma, alpha, depth)\n",
    "    samples = get_samples(circuit, repetitions)\n",
    "    \n",
    "    cost = 0\n",
    "    for sample in samples:\n",
    "        for start_node, end_node, weight in set_edges:\n",
    "            Z_i = (1 - 2*sample[start_node])\n",
    "            Z_j = (1 - 2*sample[end_node])\n",
    "            cost += 0.5*weight*(1 - Z_i * Z_j)\n",
    "    # average cost    \n",
    "    total_cost = float(cost)/len(samples)\n",
    "    \n",
    "    return -total_cost # EXPLICAR         "
   ]
  },
  {
   "cell_type": "code",
   "execution_count": 289,
   "metadata": {},
   "outputs": [],
   "source": [
    "def optimal_params(objective_func, qubits, depth, repetitions, set_edges):\n",
    "    init_param = [float(np.random.randint(-314, 314))/float(100) for i in range(0, 2*depth)]\n",
    "    result = minimize(objective_func, x0=init_param, args=(qubits, depth, repetitions, set_edges), method='COBYLA', options={'maxiter':100})    \n",
    "    optimal_gamma = result['x'][:len(result['x'])//2]\n",
    "    optimal_alpha = result['x'][len(result['x'])//2:]\n",
    "    return optimal_gamma, optimal_alpha"
   ]
  },
  {
   "cell_type": "markdown",
   "metadata": {},
   "source": [
    "aqui explicam que es samples son [0,1,1,0,1] i que per determinar aixo en base decimal utilitzam sa formula d_o*2⁰ + d_1*2¹..."
   ]
  },
  {
   "cell_type": "code",
   "execution_count": 290,
   "metadata": {},
   "outputs": [],
   "source": [
    "def state_and_probs(qubits, opt_gamma, opt_alpha, depth, repetitions):\n",
    "    opt_circuit = qaoa_circuit(qubits, opt_gamma, opt_alpha, depth)\n",
    "    samples = get_samples(opt_circuit, repetitions)\n",
    "    \n",
    "    states = set()\n",
    "    freqs = np.zeros(2**len(qubits))\n",
    "    for sample in samples:\n",
    "        state = 0\n",
    "        for qubit_position, qubit in enumerate(sample):\n",
    "            state += 2**(len(sample)-qubit_position-1)*qubit \n",
    "        \n",
    "        states.add(state)\n",
    "        freqs[state] += 1\n",
    "        \n",
    "    probs = freqs/np.sum(freqs)\n",
    "    return states, probs\n",
    "        \n",
    "\n",
    "def plot_bitstrings_probs(probs, num_qubits):\n",
    "    x = range(0, 2**num_qubits)\n",
    "    plt.bar(x, probs)\n",
    "    plt.show()  "
   ]
  },
  {
   "cell_type": "markdown",
   "metadata": {},
   "source": [
    "# Results\n",
    "\n",
    "As we saw at the beginning we want to find the best cut for the following graph."
   ]
  },
  {
   "cell_type": "code",
   "execution_count": 291,
   "metadata": {},
   "outputs": [
    {
     "data": {
      "image/png": "[encoded data removed]",
      "text/plain": [
       "<Figure size 432x288 with 1 Axes>"
      ]
     },
     "metadata": {},
     "output_type": "display_data"
    }
   ],
   "source": [
    "# linear 5 node graph\n",
    "set_edges = [(0, 1, 1),(1, 2, 1), (2, 3, 1), (3, 4, 1)]\n",
    "draw_graph(set_edges)"
   ]
  },
  {
   "cell_type": "markdown",
   "metadata": {},
   "source": [
    "So, since there are 5 nodes, we will need 5 qubits. We also use a circuit with depth 4 to establish a comparision with the code written by [lucaman99](https://lucaman99.github.io/new_blog/2020/mar16.html).  \n",
    "\n",
    "For more information regarding to the depth, check this [blog](https://www.mustythoughts.com/quantum-approximate-optimization-algorithm-explained)."
   ]
  },
  {
   "cell_type": "code",
   "execution_count": 294,
   "metadata": {},
   "outputs": [
    {
     "data": {
      "image/png": "[encoded data removed]",
      "text/plain": [
       "<Figure size 432x288 with 1 Axes>"
      ]
     },
     "metadata": {
      "needs_background": "light"
     },
     "output_type": "display_data"
    }
   ],
   "source": [
    "# Parameters\n",
    "num_qubits = 5 \n",
    "depth = 4\n",
    "repetitions = 1000\n",
    "\n",
    "# Defining a list of qubits\n",
    "qubits = [cirq.GridQubit(0, i) for i in range(0, num_qubits)]\n",
    "\n",
    "# Compute the optimal gamma and alpha\n",
    "opt_gamma, opt_alpha = optimal_params(cost_function, qubits, depth, repetitions, set_edges)\n",
    "\n",
    "# Compute all possible states and its probabilities\n",
    "states, probs = state_and_probs(qubits, opt_gamma, opt_alpha, depth, repetitions)\n",
    "\n",
    "# Visualize results\n",
    "plot_bitstrings_probs(probs, num_qubits)"
   ]
  },
  {
   "cell_type": "markdown",
   "metadata": {},
   "source": [
    "# Plotting max-cut graph"
   ]
  },
  {
   "cell_type": "code",
   "execution_count": 295,
   "metadata": {},
   "outputs": [],
   "source": [
    "def max_cut_graph(probs, set_edges, reverse=False):\n",
    "    most_prob_state = np.argmax(probs)\n",
    "    bitstring = bin(most_prob_state)[2:]\n",
    "\n",
    "    G = nx.Graph()\n",
    "    G.add_weighted_edges_from(set_edges)\n",
    "    \n",
    "    colors = list()\n",
    "    if reverse:\n",
    "        bitstring = bitstring[::-1]\n",
    "    \n",
    "    for node in G:\n",
    "        if bitstring[node] == str(1):\n",
    "            colors.append(\"blue\")\n",
    "        else:\n",
    "            colors.append(\"red\")\n",
    "\n",
    "    nx.draw(G, node_color = colors, with_labels=True)\n",
    "    plt.show()"
   ]
  },
  {
   "cell_type": "code",
   "execution_count": 296,
   "metadata": {},
   "outputs": [
    {
     "data": {
      "image/png": "[encoded data removed]",
      "text/plain": [
       "<Figure size 432x288 with 1 Axes>"
      ]
     },
     "metadata": {},
     "output_type": "display_data"
    }
   ],
   "source": [
    "max_cut_graph(probs, set_edges)"
   ]
  },
  {
   "cell_type": "markdown",
   "metadata": {},
   "source": [
    "# Weighted graph"
   ]
  },
  {
   "cell_type": "code",
   "execution_count": 297,
   "metadata": {},
   "outputs": [
    {
     "data": {
      "image/png": "[encoded data removed]",
      "text/plain": [
       "<Figure size 432x288 with 1 Axes>"
      ]
     },
     "metadata": {},
     "output_type": "display_data"
    }
   ],
   "source": [
    "edges_weighted = [\n",
    "    (0, 1, 2),\n",
    "    (0, 2, 1),\n",
    "    (2, 3, 2),\n",
    "    (0, 4, 4),\n",
    "    (2, 5, 1),\n",
    "    (1, 2, 3),\n",
    "    (1, 6, 5),\n",
    "    (2, 6, 2),\n",
    "    (3, 5, 3),\n",
    "    (4, 5, 1)\n",
    "]\n",
    "\n",
    "draw_graph(edges_weighted)"
   ]
  },
  {
   "cell_type": "code",
   "execution_count": 341,
   "metadata": {},
   "outputs": [
    {
     "data": {
      "image/png": "[encoded data removed]",
      "text/plain": [
       "<Figure size 432x288 with 1 Axes>"
      ]
     },
     "metadata": {
      "needs_background": "light"
     },
     "output_type": "display_data"
    }
   ],
   "source": [
    "# Parameters\n",
    "num_qubits = 7 \n",
    "depth = 4\n",
    "repetitions = 1000\n",
    "set_edges = edges_weighted\n",
    "\n",
    "# Defining a list of qubits\n",
    "qubits = [cirq.GridQubit(0, i) for i in range(0, num_qubits)]\n",
    "\n",
    "# Compute the optimal gamma and alpha\n",
    "opt_gamma, opt_alpha = optimal_params(cost_function, qubits, depth, repetitions, set_edges)\n",
    "\n",
    "# Compute all possible states and its probabilities\n",
    "states, probs = state_and_probs(qubits, opt_gamma, opt_alpha, depth, repetitions)\n",
    "\n",
    "# Visualize results\n",
    "plot_bitstrings_probs(probs, num_qubits)"
   ]
  },
  {
   "cell_type": "code",
   "execution_count": 342,
   "metadata": {},
   "outputs": [
    {
     "data": {
      "text/plain": [
       "98"
      ]
     },
     "execution_count": 342,
     "metadata": {},
     "output_type": "execute_result"
    }
   ],
   "source": [
    "np.argmax(probs)"
   ]
  },
  {
   "cell_type": "code",
   "execution_count": 343,
   "metadata": {},
   "outputs": [
    {
     "data": {
      "image/png": "[encoded data removed]",
      "text/plain": [
       "<Figure size 432x288 with 1 Axes>"
      ]
     },
     "metadata": {},
     "output_type": "display_data"
    }
   ],
   "source": [
    "max_cut_graph(probs, set_edges)"
   ]
  },
  {
   "cell_type": "markdown",
   "metadata": {},
   "source": [
    "## Next steps:\n",
    "* Adding Documentation\n",
    "* Adding more examples, to test the code.\n",
    "* Draw weighted graphs using netwokx.\n",
    "* Try different depths.\n",
    "* Try to implement others code:\n",
    "[Guilleaume](https://colab.research.google.com/drive/1yFIzqXWDwWe1l1c5ATFhuFcmDQiQUk25#scrollTo=Hf2oywn3HlrC),\n",
    "[Qiskit](https://qiskit.org/textbook/ch-applications/qaoa.html),\n",
    "[Qiskit_2](https://qiskit.org/documentation/tutorials/optimization/6_examples_max_cut_and_tsp.html),\n",
    "[Cirq](https://quantumai.google/cirq/tutorials/qaoa).\n",
    "\n",
    "\n",
    "Comment: If the final state is not the expected, you might try running again the code. I need to figure out a way to get more stable solution, perhaps doing more repetition or modifing the depth of the circuit. \n"
   ]
  },
  {
   "cell_type": "code",
   "execution_count": null,
   "metadata": {},
   "outputs": [],
   "source": []
  }
 ],
 "metadata": {
  "kernelspec": {
   "display_name": "qosf_2021_01",
   "language": "python",
   "name": "qosf_2021_01"
  },
  "language_info": {
   "codemirror_mode": {
    "name": "ipython",
    "version": 3
   },
   "file_extension": ".py",
   "mimetype": "text/x-python",
   "name": "python",
   "nbconvert_exporter": "python",
   "pygments_lexer": "ipython3",
   "version": "3.9.1"
  }
 },
 "nbformat": 4,
 "nbformat_minor": 4
}
